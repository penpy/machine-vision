{
 "cells": [
  {
   "cell_type": "code",
   "execution_count": 50,
   "metadata": {},
   "outputs": [],
   "source": [
    "import numpy as np\n",
    "import matplotlib.pyplot as plt\n",
    "import matplotlib.image as img\n",
    "import torch\n",
    "import torch.nn as nn\n",
    "from torch.utils.data import DataLoader, Dataset \n",
    "import torchvision\n",
    "import pandas as pd\n",
    "from torchvision.transforms import ToPILImage"
   ]
  },
  {
   "cell_type": "code",
   "execution_count": 2,
   "metadata": {},
   "outputs": [
    {
     "name": "stdout",
     "output_type": "stream",
     "text": [
      "device: cpu\n"
     ]
    }
   ],
   "source": [
    "device = torch.device('cuda' if torch.cuda.is_available() else 'cpu')\n",
    "print('device: ' + str(device))\n",
    "\n",
    "\n",
    "batch_size = 100\n",
    "\n",
    "path = 'data/'\n",
    "train_data = torchvision.datasets.CIFAR10(root=path, train=True, transform=torchvision.transforms.ToTensor())\n",
    "test_data = torchvision.datasets.CIFAR10(root=path, train=False, transform=torchvision.transforms.ToTensor())\n",
    "\n",
    "train_loader = DataLoader(train_data, batch_size=batch_size, shuffle=True)\n",
    "test_loader = DataLoader(test_data, batch_size=10000, shuffle=False)\n",
    "\n",
    "\n",
    "img_classes = {0: 'airplane',\n",
    "               1: 'automobile',\n",
    "               2: 'bird',\n",
    "               3: 'cat',\n",
    "               4: 'deer',\n",
    "               5: 'dog',\n",
    "               6: 'frog',\n",
    "               7: 'horse',\n",
    "               8: 'ship',\n",
    "               9: 'truck',}"
   ]
  },
  {
   "cell_type": "code",
   "execution_count": 3,
   "metadata": {},
   "outputs": [
    {
     "name": "stdout",
     "output_type": "stream",
     "text": [
      "torch.Size([3, 32, 32])\n",
      "torch.Size([32, 32, 3])\n"
     ]
    },
    {
     "data": {
      "image/png": "[encoded data removed]",
      "text/plain": [
       "<Figure size 115.2x115.2 with 1 Axes>"
      ]
     },
     "metadata": {
      "needs_background": "light"
     },
     "output_type": "display_data"
    },
    {
     "name": "stdout",
     "output_type": "stream",
     "text": [
      "label =  7 horse\n"
     ]
    }
   ],
   "source": [
    "i = np.random.randint(50000)\n",
    "image, label = train_data[i]\n",
    "print(image.shape)\n",
    "r = image[0]\n",
    "g = image[1]\n",
    "b = image[2]\n",
    "im = torch.stack((r, g, b), dim=2)\n",
    "print(im.shape)\n",
    "plt.rcParams['figure.figsize'] = [1.6, 1.6]\n",
    "plt.imshow(im)\n",
    "plt.show()\n",
    "print('label = ', label, img_classes[label])"
   ]
  },
  {
   "cell_type": "code",
   "execution_count": 4,
   "metadata": {},
   "outputs": [
    {
     "data": {
      "text/plain": [
       "10000"
      ]
     },
     "execution_count": 4,
     "metadata": {},
     "output_type": "execute_result"
    }
   ],
   "source": [
    "len(test_data)"
   ]
  },
  {
   "cell_type": "code",
   "execution_count": null,
   "metadata": {},
   "outputs": [],
   "source": []
  },
  {
   "cell_type": "code",
   "execution_count": 17,
   "metadata": {},
   "outputs": [],
   "source": [
    "class ConvNeuralNet(nn.Module):\n",
    "    \n",
    "    def __init__(self):\n",
    "        super(ConvNeuralNet, self).__init__()\n",
    "        \n",
    "        self.conv1 = nn.Conv2d(in_channels=3, out_channels=6, kernel_size=5, stride=1)\n",
    "        self.pool1 = nn.MaxPool2d(kernel_size=2)\n",
    "        \n",
    "        self.conv2 = nn.Conv2d(in_channels=6, out_channels=16, kernel_size=5, stride=1)\n",
    "        self.pool2 =nn.MaxPool2d(kernel_size=2)\n",
    "        \n",
    "        self.conv3 = nn.Conv2d(in_channels=16, out_channels=120, kernel_size=5)\n",
    "        \n",
    "        self.lin_1 = nn.Linear(120, 84)\n",
    "        self.lin_2 = nn.Linear(84, 10)\n",
    "        \n",
    "        self.drop_input = nn.Dropout2d(p=0.05)\n",
    "        self.drop_conv1 = nn.Dropout2d(p=0.05)\n",
    "        self.drop_conv3 = nn.Dropout(p=0.05)\n",
    "        self.drop_lin1 = nn.Dropout(p=0.05)\n",
    "        \n",
    "    def forward(self, x):\n",
    "        x = self.drop_input(x)\n",
    "\n",
    "        x = torch.relu(self.conv1(x))\n",
    "        x = self.drop_conv1(x)\n",
    "        x = self.pool1(x)\n",
    "        \n",
    "        x = torch.relu(self.conv2(x))\n",
    "        x = self.pool2(x)\n",
    "        \n",
    "        x = torch.relu(self.conv3(x))\n",
    "        \n",
    "        x = x.view(-1, 120)\n",
    "        x = self.drop_conv3(x)\n",
    "        \n",
    "        x = torch.relu(self.lin_1(x))\n",
    "        x = self.drop_lin1(x)\n",
    "        x = self.lin_2(x)\n",
    "        \n",
    "        return x\n",
    "    \n",
    "model_conv = ConvNeuralNet()"
   ]
  },
  {
   "cell_type": "code",
   "execution_count": 8,
   "metadata": {},
   "outputs": [
    {
     "data": {
      "text/plain": [
       "tensor([[ 0.0856,  0.0860,  0.0298, -0.0288,  0.0563,  0.1436,  0.0173,  0.1185,\n",
       "         -0.0359,  0.1276]], grad_fn=<AddmmBackward>)"
      ]
     },
     "execution_count": 8,
     "metadata": {},
     "output_type": "execute_result"
    }
   ],
   "source": [
    "model_conv(image.view(1,3,32,32))"
   ]
  },
  {
   "cell_type": "code",
   "execution_count": 30,
   "metadata": {},
   "outputs": [
    {
     "name": "stdout",
     "output_type": "stream",
     "text": [
      "0 0 tensor(1.0193, grad_fn=<NllLossBackward>)\n",
      "0 100 tensor(0.9064, grad_fn=<NllLossBackward>)\n",
      "0 200 tensor(1.0411, grad_fn=<NllLossBackward>)\n",
      "0 300 tensor(0.9119, grad_fn=<NllLossBackward>)\n",
      "0 400 tensor(0.9821, grad_fn=<NllLossBackward>)\n",
      "1 0 tensor(0.9872, grad_fn=<NllLossBackward>)\n",
      "1 100 tensor(0.9986, grad_fn=<NllLossBackward>)\n",
      "1 200 tensor(1.0797, grad_fn=<NllLossBackward>)\n",
      "1 300 tensor(1.2244, grad_fn=<NllLossBackward>)\n",
      "1 400 tensor(1.0234, grad_fn=<NllLossBackward>)\n",
      "2 0 tensor(0.9916, grad_fn=<NllLossBackward>)\n",
      "2 100 tensor(0.9170, grad_fn=<NllLossBackward>)\n",
      "2 200 tensor(1.1251, grad_fn=<NllLossBackward>)\n",
      "2 300 tensor(0.9224, grad_fn=<NllLossBackward>)\n",
      "2 400 tensor(0.8964, grad_fn=<NllLossBackward>)\n",
      "3 0 tensor(0.8154, grad_fn=<NllLossBackward>)\n",
      "3 100 tensor(0.8902, grad_fn=<NllLossBackward>)\n",
      "3 200 tensor(0.8856, grad_fn=<NllLossBackward>)\n",
      "3 300 tensor(0.9753, grad_fn=<NllLossBackward>)\n",
      "3 400 tensor(0.9034, grad_fn=<NllLossBackward>)\n",
      "4 0 tensor(0.7682, grad_fn=<NllLossBackward>)\n",
      "4 100 tensor(0.9587, grad_fn=<NllLossBackward>)\n",
      "4 200 tensor(0.9403, grad_fn=<NllLossBackward>)\n",
      "4 300 tensor(1.0963, grad_fn=<NllLossBackward>)\n",
      "4 400 tensor(0.8289, grad_fn=<NllLossBackward>)\n",
      "5 0 tensor(0.9814, grad_fn=<NllLossBackward>)\n",
      "5 100 tensor(0.9058, grad_fn=<NllLossBackward>)\n",
      "5 200 tensor(0.8400, grad_fn=<NllLossBackward>)\n",
      "5 300 tensor(0.9077, grad_fn=<NllLossBackward>)\n",
      "5 400 tensor(0.9185, grad_fn=<NllLossBackward>)\n",
      "6 0 tensor(0.6984, grad_fn=<NllLossBackward>)\n",
      "6 100 tensor(0.9722, grad_fn=<NllLossBackward>)\n",
      "6 200 tensor(0.7909, grad_fn=<NllLossBackward>)\n",
      "6 300 tensor(0.7776, grad_fn=<NllLossBackward>)\n",
      "6 400 tensor(1.2393, grad_fn=<NllLossBackward>)\n",
      "7 0 tensor(0.8843, grad_fn=<NllLossBackward>)\n",
      "7 100 tensor(0.9740, grad_fn=<NllLossBackward>)\n",
      "7 200 tensor(1.0480, grad_fn=<NllLossBackward>)\n",
      "7 300 tensor(0.9169, grad_fn=<NllLossBackward>)\n",
      "7 400 tensor(0.7782, grad_fn=<NllLossBackward>)\n",
      "8 0 tensor(1.0615, grad_fn=<NllLossBackward>)\n",
      "8 100 tensor(1.1605, grad_fn=<NllLossBackward>)\n",
      "8 200 tensor(1.0336, grad_fn=<NllLossBackward>)\n",
      "8 300 tensor(1.0621, grad_fn=<NllLossBackward>)\n",
      "8 400 tensor(0.9186, grad_fn=<NllLossBackward>)\n",
      "9 0 tensor(0.7494, grad_fn=<NllLossBackward>)\n",
      "9 100 tensor(0.7971, grad_fn=<NllLossBackward>)\n",
      "9 200 tensor(0.8104, grad_fn=<NllLossBackward>)\n",
      "9 300 tensor(0.8273, grad_fn=<NllLossBackward>)\n",
      "9 400 tensor(0.9510, grad_fn=<NllLossBackward>)\n",
      "10 0 tensor(0.6374, grad_fn=<NllLossBackward>)\n",
      "10 100 tensor(0.8861, grad_fn=<NllLossBackward>)\n",
      "10 200 tensor(0.9152, grad_fn=<NllLossBackward>)\n",
      "10 300 tensor(0.8722, grad_fn=<NllLossBackward>)\n",
      "10 400 tensor(0.8673, grad_fn=<NllLossBackward>)\n",
      "11 0 tensor(0.8201, grad_fn=<NllLossBackward>)\n",
      "11 100 tensor(1.0905, grad_fn=<NllLossBackward>)\n",
      "11 200 tensor(1.0393, grad_fn=<NllLossBackward>)\n",
      "11 300 tensor(0.8217, grad_fn=<NllLossBackward>)\n",
      "11 400 tensor(0.8490, grad_fn=<NllLossBackward>)\n",
      "12 0 tensor(0.7443, grad_fn=<NllLossBackward>)\n",
      "12 100 tensor(0.8562, grad_fn=<NllLossBackward>)\n",
      "12 200 tensor(0.9094, grad_fn=<NllLossBackward>)\n",
      "12 300 tensor(0.9174, grad_fn=<NllLossBackward>)\n",
      "12 400 tensor(0.8449, grad_fn=<NllLossBackward>)\n",
      "13 0 tensor(0.8745, grad_fn=<NllLossBackward>)\n",
      "13 100 tensor(0.7975, grad_fn=<NllLossBackward>)\n",
      "13 200 tensor(0.9788, grad_fn=<NllLossBackward>)\n",
      "13 300 tensor(0.9584, grad_fn=<NllLossBackward>)\n",
      "13 400 tensor(0.9292, grad_fn=<NllLossBackward>)\n",
      "14 0 tensor(0.9007, grad_fn=<NllLossBackward>)\n",
      "14 100 tensor(0.8538, grad_fn=<NllLossBackward>)\n",
      "14 200 tensor(0.9365, grad_fn=<NllLossBackward>)\n",
      "14 300 tensor(0.7544, grad_fn=<NllLossBackward>)\n",
      "14 400 tensor(0.9242, grad_fn=<NllLossBackward>)\n"
     ]
    }
   ],
   "source": [
    "model_conv.train()\n",
    "criterion = torch.nn.CrossEntropyLoss()\n",
    "optimizer = torch.optim.Adam(model_conv.parameters(), lr=0.001)\n",
    "\n",
    "\n",
    "for epoch in range(15):\n",
    "    for i, batch in enumerate(train_loader):\n",
    "        images, labels = batch\n",
    "        y_pred = model_conv(images).to(device)\n",
    "        loss = criterion(y_pred, labels)\n",
    "        optimizer.zero_grad()\n",
    "        loss.backward()\n",
    "        optimizer.step()\n",
    "        if i%100==0:\n",
    "            print(epoch, i, loss)"
   ]
  },
  {
   "cell_type": "code",
   "execution_count": 61,
   "metadata": {},
   "outputs": [
    {
     "name": "stdout",
     "output_type": "stream",
     "text": [
      "64.46\n"
     ]
    }
   ],
   "source": [
    "model_conv.eval()\n",
    "with torch.no_grad():\n",
    "    for test_batch in test_loader:\n",
    "        images, labels = test_batch\n",
    "        y_pred = model_conv(images).to(device)\n",
    "        max_inidices = torch.max(y_pred, dim=1)[1]\n",
    "        n_correct = (labels == max_inidices).sum()\n",
    "\n",
    "        print(n_correct.item()/100)"
   ]
  },
  {
   "cell_type": "code",
   "execution_count": 49,
   "metadata": {},
   "outputs": [
    {
     "data": {
      "image/png": "[encoded data removed]",
      "text/plain": [
       "<Figure size 115.2x115.2 with 1 Axes>"
      ]
     },
     "metadata": {
      "needs_background": "light"
     },
     "output_type": "display_data"
    },
    {
     "data": {
      "image/png": "[encoded data removed]",
      "text/plain": [
       "<Figure size 115.2x115.2 with 1 Axes>"
      ]
     },
     "metadata": {
      "needs_background": "light"
     },
     "output_type": "display_data"
    },
    {
     "name": "stdout",
     "output_type": "stream",
     "text": [
      "{0: 'airplane', 1: 'automobile', 2: 'bird', 3: 'cat', 4: 'deer', 5: 'dog', 6: 'frog', 7: 'horse', 8: 'ship', 9: 'truck'}\n"
     ]
    }
   ],
   "source": [
    "plt.rcParams['figure.figsize'] = [1.6, 1.6]\n",
    "\n",
    "def test():\n",
    "    i = np.random.randint(50000)\n",
    "    image, label = train_data[i]\n",
    "    r = image[0]\n",
    "    g = image[1]\n",
    "    b = image[2]\n",
    "    im = torch.stack((r, g, b), dim=2)\n",
    "    plt.figure(1)\n",
    "    plt.imshow(im)\n",
    "    plt.title('label=' + str(label) + ' ' + img_classes[label])\n",
    "\n",
    "    \n",
    "    with torch.no_grad():\n",
    "        y_pred = model_conv(image.view(1,3,32,32))\n",
    "        y = y_pred.view(10)\n",
    "        y_max = y.max()\n",
    "        y_prob = torch.exp(y - y_max) / torch.sum(torch.exp(y - y_max))\n",
    "        pred = y_prob.argmax().item()\n",
    "        plt.figure(2)\n",
    "        plt.bar(range(10), y_prob)\n",
    "        plt.title('pred=' + str(pred) + ' ' + img_classes[pred])\n",
    "        plt.show()\n",
    "        print(img_classes)\n",
    "        \n",
    "test()"
   ]
  },
  {
   "cell_type": "code",
   "execution_count": 64,
   "metadata": {},
   "outputs": [],
   "source": [
    "PATH = 'hello'\n",
    "torch.save(model_conv.state_dict(), PATH)"
   ]
  },
  {
   "cell_type": "code",
   "execution_count": 18,
   "metadata": {},
   "outputs": [
    {
     "data": {
      "text/plain": [
       "<All keys matched successfully>"
      ]
     },
     "execution_count": 18,
     "metadata": {},
     "output_type": "execute_result"
    }
   ],
   "source": [
    "PATH = 'conv net 1'\n",
    "model_conv.load_state_dict(torch.load(PATH))\n"
   ]
  },
  {
   "cell_type": "code",
   "execution_count": 105,
   "metadata": {},
   "outputs": [
    {
     "name": "stdout",
     "output_type": "stream",
     "text": [
      "{0: 'airplane', 1: 'automobile', 2: 'bird', 3: 'cat', 4: 'deer', 5: 'dog', 6: 'frog', 7: 'horse', 8: 'ship', 9: 'truck'}\n"
     ]
    },
    {
     "data": {
      "image/png": "[encoded data removed]",
      "text/plain": [
       "<Figure size 288x288 with 1 Axes>"
      ]
     },
     "metadata": {
      "needs_background": "light"
     },
     "output_type": "display_data"
    }
   ],
   "source": [
    "plt.rcParams['figure.figsize'] = [4, 4]\n",
    "\n",
    "i = np.random.randint(50000)\n",
    "image, label = train_data[i]\n",
    "r = image[0]\n",
    "g = image[1]\n",
    "b = image[2]\n",
    "im = torch.stack((r, g, b), dim=2)\n",
    "plt.figure(0)\n",
    "plt.imshow(im)\n",
    "print(img_classes)\n",
    "\n",
    "plt.rcParams['figure.figsize'] = [1.6, 1.6]\n",
    "\n",
    "def test(i=i):\n",
    "    image, label = train_data[i]\n",
    "    r = image[0]\n",
    "    g = image[1]\n",
    "    b = image[2]\n",
    "    im = torch.stack((r, g, b), dim=2)\n",
    "    plt.figure(1)\n",
    "    plt.imshow(im)\n",
    "    plt.title('label=' + str(label) + ' ' + img_classes[label])\n",
    "\n",
    "    \n",
    "    with torch.no_grad():\n",
    "        y_pred = model_conv(image.view(1,3,32,32))\n",
    "        y = y_pred.view(10)\n",
    "        y_max = y.max()\n",
    "        y_prob = torch.exp(y - y_max) / torch.sum(torch.exp(y - y_max))\n",
    "        pred = y_prob.argmax().item()\n",
    "        plt.figure(2)\n",
    "        plt.bar(range(10), y_prob)\n",
    "        plt.title('pred=' + str(pred) + ' ' + img_classes[pred])\n",
    "        plt.show()\n",
    "        print(img_classes)\n"
   ]
  },
  {
   "cell_type": "code",
   "execution_count": 106,
   "metadata": {},
   "outputs": [
    {
     "data": {
      "image/png": "[encoded data removed]",
      "text/plain": [
       "<Figure size 115.2x115.2 with 1 Axes>"
      ]
     },
     "metadata": {
      "needs_background": "light"
     },
     "output_type": "display_data"
    },
    {
     "data": {
      "image/png": "[encoded data removed]",
      "text/plain": [
       "<Figure size 115.2x115.2 with 1 Axes>"
      ]
     },
     "metadata": {
      "needs_background": "light"
     },
     "output_type": "display_data"
    },
    {
     "name": "stdout",
     "output_type": "stream",
     "text": [
      "{0: 'airplane', 1: 'automobile', 2: 'bird', 3: 'cat', 4: 'deer', 5: 'dog', 6: 'frog', 7: 'horse', 8: 'ship', 9: 'truck'}\n"
     ]
    }
   ],
   "source": [
    "test()"
   ]
  },
  {
   "cell_type": "code",
   "execution_count": 102,
   "metadata": {},
   "outputs": [
    {
     "data": {
      "image/png": "[encoded data removed]",
      "text/plain": [
       "<Figure size 115.2x115.2 with 1 Axes>"
      ]
     },
     "metadata": {
      "needs_background": "light"
     },
     "output_type": "display_data"
    },
    {
     "data": {
      "image/png": "[encoded data removed]",
      "text/plain": [
       "<Figure size 115.2x115.2 with 1 Axes>"
      ]
     },
     "metadata": {
      "needs_background": "light"
     },
     "output_type": "display_data"
    },
    {
     "name": "stdout",
     "output_type": "stream",
     "text": [
      "{0: 'airplane', 1: 'automobile', 2: 'bird', 3: 'cat', 4: 'deer', 5: 'dog', 6: 'frog', 7: 'horse', 8: 'ship', 9: 'truck'}\n"
     ]
    }
   ],
   "source": [
    "my_image = img.imread('bounty.jpg', format='jpg')\n",
    "height, length, color = my_image.shape\n",
    "\n",
    "def new_img(image):\n",
    "    new_image = np.zeros((32,32,3))\n",
    "    \n",
    "    for i in range(32):\n",
    "        for j in range(32):\n",
    "            pos_i = i * 24 + 200\n",
    "            pos_j = j * 24\n",
    "            fat_pixel = image[pos_i:pos_i+24, pos_j:pos_j+24]\n",
    "            new_image[i,j] = np.sum(fat_pixel, axis=(0,1))\n",
    "    return new_image/new_image.max()\n",
    "\n",
    "\n",
    "my_img = new_img(my_image)\n",
    "plt.imshow(my_img)\n",
    "\n",
    "my_img = torch.tensor(my_img, dtype=torch.float32)\n",
    "r = my_img[:,:,0]\n",
    "g = my_img[:,:,1]\n",
    "b = my_img[:,:,2]\n",
    "my_img = torch.stack((r,g,b))\n",
    "with torch.no_grad():\n",
    "    y_pred = model_conv(my_img.view(1,3,32,32))\n",
    "    y = y_pred.view(10)\n",
    "    y_max = y.max()\n",
    "    y_prob = torch.exp(y - y_max) / torch.sum(torch.exp(y - y_max))\n",
    "    pred = y_prob.argmax().item()\n",
    "    plt.figure(2)\n",
    "    plt.bar(range(10), y_prob)\n",
    "    plt.title('pred=' + str(pred) + ' ' + img_classes[pred])\n",
    "    plt.show()\n",
    "    print(img_classes)\n"
   ]
  },
  {
   "cell_type": "code",
   "execution_count": null,
   "metadata": {},
   "outputs": [],
   "source": []
  },
  {
   "cell_type": "code",
   "execution_count": null,
   "metadata": {},
   "outputs": [],
   "source": []
  },
  {
   "cell_type": "code",
   "execution_count": null,
   "metadata": {},
   "outputs": [],
   "source": []
  }
 ],
 "metadata": {
  "kernelspec": {
   "display_name": "Python 3",
   "language": "python",
   "name": "python3"
  },
  "language_info": {
   "codemirror_mode": {
    "name": "ipython",
    "version": 3
   },
   "file_extension": ".py",
   "mimetype": "text/x-python",
   "name": "python",
   "nbconvert_exporter": "python",
   "pygments_lexer": "ipython3",
   "version": "3.8.2"
  }
 },
 "nbformat": 4,
 "nbformat_minor": 4
}
