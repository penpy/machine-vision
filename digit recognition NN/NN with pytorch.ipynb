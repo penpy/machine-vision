{
 "cells": [
  {
   "cell_type": "code",
   "execution_count": 1,
   "metadata": {},
   "outputs": [],
   "source": [
    "import struct\n",
    "import array\n",
    "import numpy as np\n",
    "from matplotlib import pyplot as plt\n",
    "from matplotlib import image as img\n",
    "import torch\n",
    "import torch_NN_v2\n",
    "import torch_NN_v1\n",
    "\n",
    "# ===================\n",
    "# Dataset\n",
    "# ===================\n",
    "\n",
    "\n",
    "DATA_TYPES = {0x08: 'B',  # unsigned byte\n",
    "              0x09: 'b',  # signed byte\n",
    "              0x0b: 'h',  # short (2 bytes)\n",
    "              0x0c: 'i',  # int (4 bytes)\n",
    "              0x0d: 'f',  # float (4 bytes)\n",
    "              0x0e: 'd'}  # double (8 bytes)\n",
    "\n",
    "FILE_NAMES = ['train-images.idx3-ubyte',\n",
    "              'train-labels.idx1-ubyte',\n",
    "              't10k-images.idx3-ubyte',\n",
    "              't10k-labels.idx1-ubyte']\n",
    "\n",
    "def mnist_data(i):\n",
    "    filename = 'database//' + FILE_NAMES[i]\n",
    "    fd = open(filename, 'rb')\n",
    "    header = fd.read(4)\n",
    "    zeros, data_type, num_dimensions = struct.unpack('>HBB', header)\n",
    "    data_type = DATA_TYPES[data_type]\n",
    "    dimension_sizes = struct.unpack('>' + 'I' * num_dimensions, fd.read(4 * num_dimensions))\n",
    "    data = array.array(data_type, fd.read())\n",
    "    data.byteswap()\n",
    "    return np.array(data).reshape(dimension_sizes)\n",
    "\n",
    "TRAIN_IMAGES = mnist_data(0)\n",
    "TRAIN_LABELS = mnist_data(1)\n",
    "TEST_IMAGES = mnist_data(2)\n",
    "TEST_LABELS = mnist_data(3)\n",
    "\n",
    "LEN_TRAIN = len(TRAIN_LABELS)\n",
    "LEN_TEST = len(TEST_LABELS)"
   ]
  },
  {
   "cell_type": "code",
   "execution_count": 4,
   "metadata": {},
   "outputs": [
    {
     "name": "stdout",
     "output_type": "stream",
     "text": [
      "test 1 0.9117\n",
      "0 tensor(0.3356, grad_fn=<NllLossBackward>)\n",
      "1 tensor(0.3488, grad_fn=<NllLossBackward>)\n"
     ]
    },
    {
     "data": {
      "text/plain": [
       "0.9192"
      ]
     },
     "execution_count": 4,
     "metadata": {},
     "output_type": "execute_result"
    }
   ],
   "source": [
    "print('test 1', torch_NN_v1.test())\n",
    "torch_NN_v1.train()\n",
    "torch_NN_v1.test()"
   ]
  },
  {
   "cell_type": "code",
   "execution_count": null,
   "metadata": {},
   "outputs": [],
   "source": [
    "t"
   ]
  }
 ],
 "metadata": {
  "kernelspec": {
   "display_name": "Python 3",
   "language": "python",
   "name": "python3"
  },
  "language_info": {
   "codemirror_mode": {
    "name": "ipython",
    "version": 3
   },
   "file_extension": ".py",
   "mimetype": "text/x-python",
   "name": "python",
   "nbconvert_exporter": "python",
   "pygments_lexer": "ipython3",
   "version": "3.8.2"
  }
 },
 "nbformat": 4,
 "nbformat_minor": 4
}
