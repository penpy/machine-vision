{
 "cells": [
  {
   "cell_type": "code",
   "execution_count": 3,
   "metadata": {},
   "outputs": [
    {
     "name": "stdout",
     "output_type": "stream",
     "text": [
      "import time = 0.0003039836883544922\n",
      "image time = 0.0637049674987793\n",
      "time 2 = 8.771360158920288\n",
      "middle time = 8.772104024887085\n"
     ]
    },
    {
     "data": {
      "text/plain": [
       "<matplotlib.image.AxesImage at 0x10e5603d0>"
      ]
     },
     "execution_count": 3,
     "metadata": {},
     "output_type": "execute_result"
    },
    {
     "data": {
      "image/png": "[encoded data removed]",
      "text/plain": [
       "<Figure size 432x288 with 1 Axes>"
      ]
     },
     "metadata": {
      "needs_background": "light"
     },
     "output_type": "display_data"
    }
   ],
   "source": [
    "import time\n",
    "t0 = time.time()\n",
    "\n",
    "import numpy as np\n",
    "from matplotlib import pyplot as plt\n",
    "from matplotlib import image as img\n",
    "\n",
    "print('import time =', time.time()-t0)\n",
    "\n",
    "my_image = img.imread('database/number_photo.jpg', format='jpg')\n",
    "height, length, color = my_image.shape\n",
    "\n",
    "my_image = np.array(my_image)\n",
    "\n",
    "j_start = int(length/2 - height/2)\n",
    "\n",
    "print('image time =', time.time() - t0)\n",
    "\n",
    "n = 28\n",
    "\n",
    "def new_image(my_image):\n",
    "    # Convert 720 * 1080 rvb image into 28 * 28 black&white\n",
    "    \n",
    "\n",
    "    grey_image = np.zeros((height, height), dtype='int32')\n",
    "    \n",
    "    for i in range(height):\n",
    "        for j in range(height):\n",
    "            sum = 0\n",
    "            for k in range(3):\n",
    "                sum += my_image[i][j+j_start][k]\n",
    "            grey_image[i][j] = 255 - sum//3\n",
    "            # grey_image[i][j] = 255 - np.mean(pixel)\n",
    "            \n",
    "    print('time 2 =', time.time() - t0)\n",
    "    \n",
    "    my_new_image = np.zeros((n, n))\n",
    "    kl_lim = height // (n - 1) - 1\n",
    "    k_tot = 0\n",
    "    count = 0\n",
    "    \n",
    "    print('middle time =', time.time() - t0)\n",
    "    \n",
    "    for i in range(n):\n",
    "        l_tot = 0\n",
    "        for j in range(n):\n",
    "            count += 1\n",
    "            sum = 0\n",
    "            k = 0\n",
    "            l = 0\n",
    "            \n",
    "            while k <= kl_lim and k_tot <= height-1:\n",
    "                while l <= kl_lim and l_tot <= height-1:\n",
    "                    sum += grey_image[k_tot][l_tot]\n",
    "                    l += 1\n",
    "                k += 1\n",
    "                \n",
    "            new_pixel = sum / (k + l)\n",
    "            my_new_image[i][j] = new_pixel\n",
    "            l_tot += kl_lim\n",
    "        k_tot += kl_lim\n",
    "        \n",
    "    return my_new_image\n",
    "\n",
    "im28 = new_image(my_image)\n",
    "\n",
    "plt.imshow(im28, cmap='Greys')\n",
    "\n",
    "\n"
   ]
  },
  {
   "cell_type": "code",
   "execution_count": null,
   "metadata": {},
   "outputs": [],
   "source": []
  },
  {
   "cell_type": "code",
   "execution_count": null,
   "metadata": {},
   "outputs": [],
   "source": []
  }
 ],
 "metadata": {
  "kernelspec": {
   "display_name": "Python 3",
   "language": "python",
   "name": "python3"
  },
  "language_info": {
   "codemirror_mode": {
    "name": "ipython",
    "version": 3
   },
   "file_extension": ".py",
   "mimetype": "text/x-python",
   "name": "python",
   "nbconvert_exporter": "python",
   "pygments_lexer": "ipython3",
   "version": "3.8.2"
  }
 },
 "nbformat": 4,
 "nbformat_minor": 4
}
