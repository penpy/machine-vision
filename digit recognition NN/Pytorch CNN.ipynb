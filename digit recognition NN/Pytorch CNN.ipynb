{
 "cells": [
  {
   "cell_type": "code",
   "execution_count": 3,
   "metadata": {},
   "outputs": [],
   "source": [
    "import numpy as np\n",
    "import matplotlib.pyplot as plt\n",
    "import torch\n",
    "import torch.nn as nn\n",
    "from torch.utils.data import DataLoader, Dataset \n",
    "import torchvision\n",
    "import pandas as pd"
   ]
  },
  {
   "cell_type": "code",
   "execution_count": 4,
   "metadata": {},
   "outputs": [
    {
     "name": "stdout",
     "output_type": "stream",
     "text": [
      "device: cpu\n"
     ]
    }
   ],
   "source": [
    "device = torch.device('cuda' if torch.cuda.is_available() else 'cpu')\n",
    "print('device: ' + str(device))\n",
    "\n",
    "size_input = 784\n",
    "size_hidden = 100\n",
    "n_classes = 10\n",
    "\n",
    "n_epochs = 2\n",
    "batch_size = 100\n",
    "n_iter = n_epochs // batch_size\n",
    "learn_r = 0.001\n",
    "\n",
    "path = ''\n",
    "train_data = torchvision.datasets.MNIST(root=path, train=True, transform=torchvision.transforms.ToTensor())\n",
    "test_data = torchvision.datasets.MNIST(root=path, train=False, transform=torchvision.transforms.ToTensor())\n",
    "\n",
    "train_loader = DataLoader(train_data, batch_size=batch_size, shuffle=True)\n",
    "test_loader = DataLoader(test_data, batch_size=10000, shuffle=False)"
   ]
  },
  {
   "cell_type": "code",
   "execution_count": null,
   "metadata": {},
   "outputs": [],
   "source": []
  },
  {
   "cell_type": "code",
   "execution_count": 6,
   "metadata": {},
   "outputs": [
    {
     "data": {
      "text/plain": [
       "10000"
      ]
     },
     "execution_count": 6,
     "metadata": {},
     "output_type": "execute_result"
    }
   ],
   "source": [
    "len(test_data)"
   ]
  },
  {
   "cell_type": "code",
   "execution_count": 215,
   "metadata": {},
   "outputs": [
    {
     "data": {
      "text/plain": [
       "<matplotlib.image.AxesImage at 0x12b701670>"
      ]
     },
     "execution_count": 215,
     "metadata": {},
     "output_type": "execute_result"
    },
    {
     "data": {
      "image/png": "[encoded data removed]",
      "text/plain": [
       "<Figure size 432x288 with 1 Axes>"
      ]
     },
     "metadata": {
      "needs_background": "light"
     },
     "output_type": "display_data"
    }
   ],
   "source": [
    "plt.imshow(train_data[0][0][0])"
   ]
  },
  {
   "cell_type": "code",
   "execution_count": 74,
   "metadata": {},
   "outputs": [],
   "source": [
    "c = nn.Conv2d(in_channels=1, out_channels=3, kernel_size=4, stride=2)"
   ]
  },
  {
   "cell_type": "code",
   "execution_count": 75,
   "metadata": {},
   "outputs": [],
   "source": [
    "x = torch.reshape(train_data[0][0], (1,1,28,28))"
   ]
  },
  {
   "cell_type": "code",
   "execution_count": 76,
   "metadata": {},
   "outputs": [],
   "source": [
    "with torch.no_grad():\n",
    "    x2= c(x)"
   ]
  },
  {
   "cell_type": "code",
   "execution_count": 77,
   "metadata": {},
   "outputs": [
    {
     "data": {
      "text/plain": [
       "torch.Size([1, 3, 13, 13])"
      ]
     },
     "execution_count": 77,
     "metadata": {},
     "output_type": "execute_result"
    }
   ],
   "source": [
    "x2.shape"
   ]
  },
  {
   "cell_type": "code",
   "execution_count": 78,
   "metadata": {},
   "outputs": [],
   "source": [
    "p = nn.MaxPool2d(kernel_size=2, stride=2)"
   ]
  },
  {
   "cell_type": "code",
   "execution_count": 79,
   "metadata": {},
   "outputs": [],
   "source": [
    "with torch.no_grad():\n",
    "    x3 = p(x2)"
   ]
  },
  {
   "cell_type": "code",
   "execution_count": 82,
   "metadata": {},
   "outputs": [
    {
     "data": {
      "text/plain": [
       "torch.Size([1, 3, 6, 6])"
      ]
     },
     "execution_count": 82,
     "metadata": {},
     "output_type": "execute_result"
    }
   ],
   "source": [
    "x3.shape"
   ]
  },
  {
   "cell_type": "code",
   "execution_count": 93,
   "metadata": {},
   "outputs": [
    {
     "data": {
      "text/plain": [
       "torch.Size([1, 108])"
      ]
     },
     "execution_count": 93,
     "metadata": {},
     "output_type": "execute_result"
    }
   ],
   "source": [
    "a = torch.flatten(x3, start_dim=1)\n",
    "a.shape"
   ]
  },
  {
   "cell_type": "code",
   "execution_count": 91,
   "metadata": {},
   "outputs": [
    {
     "data": {
      "text/plain": [
       "108"
      ]
     },
     "execution_count": 91,
     "metadata": {},
     "output_type": "execute_result"
    }
   ],
   "source": [
    "3*6*6"
   ]
  },
  {
   "cell_type": "code",
   "execution_count": null,
   "metadata": {},
   "outputs": [],
   "source": []
  },
  {
   "cell_type": "code",
   "execution_count": 80,
   "metadata": {},
   "outputs": [
    {
     "data": {
      "image/png": "[encoded data removed]",
      "text/plain": [
       "<Figure size 432x288 with 1 Axes>"
      ]
     },
     "metadata": {
      "needs_background": "light"
     },
     "output_type": "display_data"
    }
   ],
   "source": [
    "with torch.no_grad():\n",
    "    plt.imshow(x3[0][0])"
   ]
  },
  {
   "cell_type": "code",
   "execution_count": 45,
   "metadata": {},
   "outputs": [
    {
     "data": {
      "image/png": "[encoded data removed]",
      "text/plain": [
       "<Figure size 432x288 with 1 Axes>"
      ]
     },
     "metadata": {
      "needs_background": "light"
     },
     "output_type": "display_data"
    }
   ],
   "source": [
    "with torch.no_grad():\n",
    "    plt.imshow(x2[0][0])"
   ]
  },
  {
   "cell_type": "code",
   "execution_count": 5,
   "metadata": {},
   "outputs": [
    {
     "name": "stdout",
     "output_type": "stream",
     "text": [
      "output_img_len: 13.0\n",
      "6.0\n",
      "3.0\n"
     ]
    }
   ],
   "source": [
    "input_img_len = 28\n",
    "k_len = 4\n",
    "s_len = 2\n",
    "output_img_len = 1 + (input_img_len - k_len) / s_len\n",
    "print('output_img_len: ' + str(output_img_len))\n",
    "\n",
    "output_len = 1 + (output_img_len - 3) / 2\n",
    "print(output_len)\n",
    "\n",
    "output_len = 1 + (output_len - 2) / 2\n",
    "print(output_len)\n",
    "\n",
    "\n",
    "class NeuralNet(nn.Module):\n",
    "    \n",
    "    def __init__(self):\n",
    "        super(NeuralNet, self).__init__()\n",
    "        self.conv = nn.Conv2d(in_channels=1, out_channels=6, kernel_size=3, stride=2)\n",
    "        self.im_size = int((28 - 3 - 2) / 2 + 2)\n",
    "        self.lin_inp_size = int(6 * self.im_size**2)\n",
    "        #self.pool = nn.AvgPool2d(kernel_size=2, stride=2)\n",
    "        self.lin_1 = nn.Linear(self.lin_inp_size, 100)\n",
    "        self.lin_2 = nn.Linear(100, n_classes)\n",
    "        \n",
    "    def forward(self, inp):\n",
    "        out_1 = self.conv(inp)\n",
    "        #out_2 = self.pool(out_1)\n",
    "        out_3 = torch.relu(self.lin_1(torch.flatten(out_1, start_dim=1)))\n",
    "        out_4 = self.lin_2(out_3)\n",
    "        return out_4\n",
    "\n",
    "model = NeuralNet().to(device)"
   ]
  },
  {
   "cell_type": "code",
   "execution_count": 11,
   "metadata": {},
   "outputs": [
    {
     "name": "stdout",
     "output_type": "stream",
     "text": [
      "13\n",
      "1014\n"
     ]
    }
   ],
   "source": [
    "print(model.im_size)\n",
    "print(model.lin_inp_size)"
   ]
  },
  {
   "cell_type": "code",
   "execution_count": 12,
   "metadata": {},
   "outputs": [
    {
     "data": {
      "text/plain": [
       "432"
      ]
     },
     "execution_count": 12,
     "metadata": {},
     "output_type": "execute_result"
    }
   ],
   "source": [
    "12*12*3"
   ]
  },
  {
   "cell_type": "code",
   "execution_count": 6,
   "metadata": {},
   "outputs": [
    {
     "name": "stdout",
     "output_type": "stream",
     "text": [
      "0 tensor(2.2921, grad_fn=<NllLossBackward>)\n",
      "0 tensor(0.6657, grad_fn=<NllLossBackward>)\n",
      "0 tensor(0.3095, grad_fn=<NllLossBackward>)\n",
      "0 tensor(0.2379, grad_fn=<NllLossBackward>)\n",
      "0 tensor(0.3124, grad_fn=<NllLossBackward>)\n",
      "0 tensor(0.2082, grad_fn=<NllLossBackward>)\n"
     ]
    }
   ],
   "source": [
    "criterion = torch.nn.CrossEntropyLoss()\n",
    "optimizer = torch.optim.Adam(model.parameters(), lr=learn_r)\n",
    "\n",
    "for epoch in range(1):\n",
    "    for i, batch in enumerate(train_loader):\n",
    "        images, labels = batch\n",
    "        y_pred = model(images).to(device)\n",
    "        loss = criterion(y_pred, labels)\n",
    "        optimizer.zero_grad()\n",
    "        loss.backward()\n",
    "        optimizer.step()\n",
    "        if i%100==0:\n",
    "            print(epoch, loss)\n",
    "        \n",
    "        "
   ]
  },
  {
   "cell_type": "code",
   "execution_count": null,
   "metadata": {},
   "outputs": [],
   "source": []
  },
  {
   "cell_type": "code",
   "execution_count": 214,
   "metadata": {},
   "outputs": [
    {
     "name": "stdout",
     "output_type": "stream",
     "text": [
      "0.9617\n"
     ]
    }
   ],
   "source": [
    "with torch.no_grad():\n",
    "    for test_batch in test_loader:\n",
    "        images, labels = test_batch\n",
    "        y_pred = model(images).to(device)\n",
    "        max_inidices = torch.max(y_pred, dim=1)[1]\n",
    "        n_correct = (labels == max_inidices).sum()\n",
    "\n",
    "        print(n_correct.item()/10000)"
   ]
  },
  {
   "cell_type": "code",
   "execution_count": 151,
   "metadata": {},
   "outputs": [],
   "source": [
    "test_iter = iter(test_loader)\n",
    "test_images, test_labels = test_iter.next()"
   ]
  },
  {
   "cell_type": "code",
   "execution_count": 194,
   "metadata": {},
   "outputs": [
    {
     "name": "stdout",
     "output_type": "stream",
     "text": [
      "prediction: 8\n"
     ]
    },
    {
     "data": {
      "image/png": "[encoded data removed]",
      "text/plain": [
       "<Figure size 432x288 with 1 Axes>"
      ]
     },
     "metadata": {
      "needs_background": "light"
     },
     "output_type": "display_data"
    }
   ],
   "source": [
    "def test():\n",
    "    i = np.random.randint(10000)\n",
    "    image = test_data[0][i]\n",
    "    label = test_data[1][i]\n",
    "    plt.imshow(image[0], cmap='Greys')\n",
    "    plt.title(str(i) + ': label = ' + str(label.item()))\n",
    "    with torch.no_grad():\n",
    "        img = torch.reshape(image, (1,1,28,28))\n",
    "        y_pred = model(img)\n",
    "        max_index = torch.argmax(y_pred).item()\n",
    "        print('prediction:', max_index)\n",
    "test()"
   ]
  },
  {
   "cell_type": "code",
   "execution_count": null,
   "metadata": {},
   "outputs": [],
   "source": []
  },
  {
   "cell_type": "code",
   "execution_count": 263,
   "metadata": {},
   "outputs": [
    {
     "data": {
      "image/png": "[encoded data removed]",
      "text/plain": [
       "<Figure size 432x288 with 1 Axes>"
      ]
     },
     "metadata": {
      "needs_background": "light"
     },
     "output_type": "display_data"
    },
    {
     "data": {
      "image/png": "[encoded data removed]",
      "text/plain": [
       "<Figure size 432x288 with 6 Axes>"
      ]
     },
     "metadata": {
      "needs_background": "light"
     },
     "output_type": "display_data"
    }
   ],
   "source": [
    "i = np.random.randint(60000)\n",
    "x = torch.reshape(train_data[i][0], (1,1,28,28))\n",
    "plt.figure(0)\n",
    "plt.imshow(x[0][0], 'Greys')\n",
    "with torch.no_grad():\n",
    "    for i in range(6):\n",
    "        x2= model.conv(x)\n",
    "        plt.figure(2)\n",
    "        plt.subplot(1,6,i+1)\n",
    "        plt.imshow(x2[0][i], 'Greys')\n",
    "        plt.yticks([])"
   ]
  },
  {
   "cell_type": "code",
   "execution_count": 127,
   "metadata": {},
   "outputs": [],
   "source": [
    "# out0 = 28\n",
    "# k1 = 5\n",
    "# k2 = 5\n",
    "# s_len = 1\n",
    "\n",
    "# k_pool = 2\n",
    "# s_pool = 2\n",
    "\n",
    "# out1 = 1 + (out0 - k1 + 4) / s_len\n",
    "# print('out1: ' + str(out1))\n",
    "\n",
    "# in2 = out1/2\n",
    "# print(in2)\n",
    "\n",
    "# out2 = 1 + (in2 - k2) / s_len\n",
    "# print('out2: ' + str(out2))\n",
    "\n",
    "\n",
    "class ConvNeuralNet(nn.Module):\n",
    "    \n",
    "    def __init__(self):\n",
    "        super(ConvNeuralNet, self).__init__()\n",
    "        \n",
    "        self.conv1 = nn.Conv2d(in_channels=1, out_channels=6, kernel_size=5, stride=1, padding=2)\n",
    "        self.pool1 = nn.MaxPool2d(kernel_size=2)\n",
    "        \n",
    "        self.conv2 = nn.Conv2d(in_channels=6, out_channels=16, kernel_size=5, stride=1)\n",
    "        self.pool2 =nn.MaxPool2d(kernel_size=2)\n",
    "        \n",
    "        self.conv3 = nn.Conv2d(in_channels=16, out_channels=120, kernel_size=5)\n",
    "        \n",
    "        self.lin_1 = nn.Linear(120, 84)\n",
    "        self.lin_2 = nn.Linear(84, 10)\n",
    "        \n",
    "        self.drop_input = nn.Dropout2d(p=0.2)\n",
    "        self.drop_conv1 = nn.Dropout2d(p=0.1)\n",
    "        self.drop_conv3 = nn.Dropout(p=0.2)\n",
    "        self.drop_lin1 = nn.Dropout(p=0.2)\n",
    "        \n",
    "    def forward(self, x):\n",
    "        x = self.drop_input(x)\n",
    "\n",
    "        x = torch.relu(self.conv1(x))\n",
    "        x = self.drop_conv1(x)\n",
    "        x = self.pool1(x)\n",
    "        \n",
    "        x = torch.relu(self.conv2(x))\n",
    "        x = self.pool2(x)\n",
    "        \n",
    "        x = torch.relu(self.conv3(x))\n",
    "        \n",
    "        x = x.view(-1, 120)\n",
    "        x = self.drop_conv3(x)\n",
    "        \n",
    "        x = torch.relu(self.lin_1(x))\n",
    "        x = self.drop_lin1(x)\n",
    "        x = self.lin_2(x)\n",
    "        \n",
    "        return x\n",
    "    \n",
    "model_conv = ConvNeuralNet()"
   ]
  },
  {
   "cell_type": "code",
   "execution_count": null,
   "metadata": {},
   "outputs": [],
   "source": []
  },
  {
   "cell_type": "code",
   "execution_count": 128,
   "metadata": {},
   "outputs": [
    {
     "name": "stdout",
     "output_type": "stream",
     "text": [
      "0 0 tensor(2.3076, grad_fn=<NllLossBackward>)\n",
      "0 100 tensor(0.9507, grad_fn=<NllLossBackward>)\n",
      "0 200 tensor(0.6103, grad_fn=<NllLossBackward>)\n",
      "0 300 tensor(0.6644, grad_fn=<NllLossBackward>)\n",
      "0 400 tensor(0.5679, grad_fn=<NllLossBackward>)\n",
      "0 500 tensor(0.6057, grad_fn=<NllLossBackward>)\n",
      "1 0 tensor(0.5602, grad_fn=<NllLossBackward>)\n",
      "1 100 tensor(0.6201, grad_fn=<NllLossBackward>)\n",
      "1 200 tensor(0.4418, grad_fn=<NllLossBackward>)\n",
      "1 300 tensor(0.4599, grad_fn=<NllLossBackward>)\n",
      "1 400 tensor(0.6634, grad_fn=<NllLossBackward>)\n",
      "1 500 tensor(0.4325, grad_fn=<NllLossBackward>)\n",
      "2 0 tensor(0.4486, grad_fn=<NllLossBackward>)\n",
      "2 100 tensor(0.7376, grad_fn=<NllLossBackward>)\n",
      "2 200 tensor(0.5620, grad_fn=<NllLossBackward>)\n",
      "2 300 tensor(0.4409, grad_fn=<NllLossBackward>)\n",
      "2 400 tensor(0.4739, grad_fn=<NllLossBackward>)\n",
      "2 500 tensor(0.7274, grad_fn=<NllLossBackward>)\n",
      "3 0 tensor(0.3851, grad_fn=<NllLossBackward>)\n",
      "3 100 tensor(0.4356, grad_fn=<NllLossBackward>)\n",
      "3 200 tensor(0.6658, grad_fn=<NllLossBackward>)\n",
      "3 300 tensor(0.4606, grad_fn=<NllLossBackward>)\n",
      "3 400 tensor(0.6100, grad_fn=<NllLossBackward>)\n",
      "3 500 tensor(0.4731, grad_fn=<NllLossBackward>)\n",
      "4 0 tensor(0.5446, grad_fn=<NllLossBackward>)\n",
      "4 100 tensor(0.5133, grad_fn=<NllLossBackward>)\n",
      "4 200 tensor(0.4043, grad_fn=<NllLossBackward>)\n",
      "4 300 tensor(0.5561, grad_fn=<NllLossBackward>)\n",
      "4 400 tensor(0.4864, grad_fn=<NllLossBackward>)\n",
      "4 500 tensor(0.4462, grad_fn=<NllLossBackward>)\n",
      "5 0 tensor(0.6168, grad_fn=<NllLossBackward>)\n",
      "5 100 tensor(0.4748, grad_fn=<NllLossBackward>)\n",
      "5 200 tensor(0.4920, grad_fn=<NllLossBackward>)\n",
      "5 300 tensor(0.4891, grad_fn=<NllLossBackward>)\n",
      "5 400 tensor(0.4796, grad_fn=<NllLossBackward>)\n",
      "5 500 tensor(0.3745, grad_fn=<NllLossBackward>)\n",
      "6 0 tensor(0.5948, grad_fn=<NllLossBackward>)\n",
      "6 100 tensor(0.2617, grad_fn=<NllLossBackward>)\n",
      "6 200 tensor(0.5488, grad_fn=<NllLossBackward>)\n",
      "6 300 tensor(0.5559, grad_fn=<NllLossBackward>)\n",
      "6 400 tensor(0.4301, grad_fn=<NllLossBackward>)\n",
      "6 500 tensor(0.3973, grad_fn=<NllLossBackward>)\n",
      "7 0 tensor(0.6109, grad_fn=<NllLossBackward>)\n",
      "7 100 tensor(0.3676, grad_fn=<NllLossBackward>)\n",
      "7 200 tensor(0.4676, grad_fn=<NllLossBackward>)\n",
      "7 300 tensor(0.4398, grad_fn=<NllLossBackward>)\n",
      "7 400 tensor(0.6906, grad_fn=<NllLossBackward>)\n",
      "7 500 tensor(0.5871, grad_fn=<NllLossBackward>)\n",
      "8 0 tensor(0.4997, grad_fn=<NllLossBackward>)\n",
      "8 100 tensor(0.4613, grad_fn=<NllLossBackward>)\n",
      "8 200 tensor(0.5882, grad_fn=<NllLossBackward>)\n",
      "8 300 tensor(0.3948, grad_fn=<NllLossBackward>)\n",
      "8 400 tensor(0.4970, grad_fn=<NllLossBackward>)\n",
      "8 500 tensor(0.4823, grad_fn=<NllLossBackward>)\n",
      "9 0 tensor(0.5756, grad_fn=<NllLossBackward>)\n",
      "9 100 tensor(0.4848, grad_fn=<NllLossBackward>)\n",
      "9 200 tensor(0.4346, grad_fn=<NllLossBackward>)\n",
      "9 300 tensor(0.4920, grad_fn=<NllLossBackward>)\n",
      "9 400 tensor(0.5378, grad_fn=<NllLossBackward>)\n",
      "9 500 tensor(0.4804, grad_fn=<NllLossBackward>)\n"
     ]
    }
   ],
   "source": [
    "criterion = torch.nn.CrossEntropyLoss()\n",
    "\n",
    "optimizer = torch.optim.Adam(model_conv.parameters(), lr=0.001)\n",
    "\n",
    "\n",
    "for epoch in range(10):\n",
    "    for i, batch in enumerate(train_loader):\n",
    "        images, labels = batch\n",
    "        y_pred = model_conv(images).to(device)\n",
    "        loss = criterion(y_pred, labels)\n",
    "        optimizer.zero_grad()\n",
    "        loss.backward()\n",
    "        optimizer.step()\n",
    "        if i%100==0:\n",
    "            print(epoch, i, loss)"
   ]
  },
  {
   "cell_type": "code",
   "execution_count": 129,
   "metadata": {},
   "outputs": [
    {
     "name": "stdout",
     "output_type": "stream",
     "text": [
      "0 0 tensor(0.5290, grad_fn=<NllLossBackward>)\n",
      "0 100 tensor(0.2739, grad_fn=<NllLossBackward>)\n",
      "0 200 tensor(0.4616, grad_fn=<NllLossBackward>)\n",
      "0 300 tensor(0.4184, grad_fn=<NllLossBackward>)\n",
      "0 400 tensor(0.5137, grad_fn=<NllLossBackward>)\n",
      "0 500 tensor(0.3764, grad_fn=<NllLossBackward>)\n",
      "1 0 tensor(0.6735, grad_fn=<NllLossBackward>)\n",
      "1 100 tensor(0.5463, grad_fn=<NllLossBackward>)\n",
      "1 200 tensor(0.4193, grad_fn=<NllLossBackward>)\n",
      "1 300 tensor(0.4474, grad_fn=<NllLossBackward>)\n",
      "1 400 tensor(0.5785, grad_fn=<NllLossBackward>)\n",
      "1 500 tensor(0.4394, grad_fn=<NllLossBackward>)\n",
      "2 0 tensor(0.4707, grad_fn=<NllLossBackward>)\n",
      "2 100 tensor(0.4589, grad_fn=<NllLossBackward>)\n",
      "2 200 tensor(0.4204, grad_fn=<NllLossBackward>)\n",
      "2 300 tensor(0.5346, grad_fn=<NllLossBackward>)\n",
      "2 400 tensor(0.3824, grad_fn=<NllLossBackward>)\n",
      "2 500 tensor(0.5272, grad_fn=<NllLossBackward>)\n",
      "3 0 tensor(0.5191, grad_fn=<NllLossBackward>)\n",
      "3 100 tensor(0.3073, grad_fn=<NllLossBackward>)\n",
      "3 200 tensor(0.4317, grad_fn=<NllLossBackward>)\n",
      "3 300 tensor(0.5082, grad_fn=<NllLossBackward>)\n",
      "3 400 tensor(0.4151, grad_fn=<NllLossBackward>)\n",
      "3 500 tensor(0.3563, grad_fn=<NllLossBackward>)\n",
      "4 0 tensor(0.4071, grad_fn=<NllLossBackward>)\n",
      "4 100 tensor(0.3320, grad_fn=<NllLossBackward>)\n",
      "4 200 tensor(0.3848, grad_fn=<NllLossBackward>)\n",
      "4 300 tensor(0.5568, grad_fn=<NllLossBackward>)\n",
      "4 400 tensor(0.6633, grad_fn=<NllLossBackward>)\n",
      "4 500 tensor(0.4570, grad_fn=<NllLossBackward>)\n",
      "5 0 tensor(0.4872, grad_fn=<NllLossBackward>)\n",
      "5 100 tensor(0.5709, grad_fn=<NllLossBackward>)\n",
      "5 200 tensor(0.4177, grad_fn=<NllLossBackward>)\n",
      "5 300 tensor(0.4449, grad_fn=<NllLossBackward>)\n",
      "5 400 tensor(0.5506, grad_fn=<NllLossBackward>)\n",
      "5 500 tensor(0.4256, grad_fn=<NllLossBackward>)\n",
      "6 0 tensor(0.4206, grad_fn=<NllLossBackward>)\n",
      "6 100 tensor(0.5842, grad_fn=<NllLossBackward>)\n",
      "6 200 tensor(0.4279, grad_fn=<NllLossBackward>)\n",
      "6 300 tensor(0.3857, grad_fn=<NllLossBackward>)\n",
      "6 400 tensor(0.5643, grad_fn=<NllLossBackward>)\n",
      "6 500 tensor(0.4376, grad_fn=<NllLossBackward>)\n",
      "7 0 tensor(0.4809, grad_fn=<NllLossBackward>)\n",
      "7 100 tensor(0.5099, grad_fn=<NllLossBackward>)\n",
      "7 200 tensor(0.2289, grad_fn=<NllLossBackward>)\n",
      "7 300 tensor(0.4982, grad_fn=<NllLossBackward>)\n",
      "7 400 tensor(0.5297, grad_fn=<NllLossBackward>)\n",
      "7 500 tensor(0.3911, grad_fn=<NllLossBackward>)\n",
      "8 0 tensor(0.4276, grad_fn=<NllLossBackward>)\n",
      "8 100 tensor(0.3237, grad_fn=<NllLossBackward>)\n",
      "8 200 tensor(0.4225, grad_fn=<NllLossBackward>)\n",
      "8 300 tensor(0.5775, grad_fn=<NllLossBackward>)\n",
      "8 400 tensor(0.5185, grad_fn=<NllLossBackward>)\n",
      "8 500 tensor(0.2399, grad_fn=<NllLossBackward>)\n",
      "9 0 tensor(0.3935, grad_fn=<NllLossBackward>)\n",
      "9 100 tensor(0.4097, grad_fn=<NllLossBackward>)\n",
      "9 200 tensor(0.5197, grad_fn=<NllLossBackward>)\n",
      "9 300 tensor(0.4465, grad_fn=<NllLossBackward>)\n",
      "9 400 tensor(0.4146, grad_fn=<NllLossBackward>)\n",
      "9 500 tensor(0.4518, grad_fn=<NllLossBackward>)\n"
     ]
    }
   ],
   "source": [
    "optimizer = torch.optim.Adam(model_conv.parameters(), lr=0.00005)\n",
    "\n",
    "\n",
    "for epoch in range(10):\n",
    "    for i, batch in enumerate(train_loader):\n",
    "        images, labels = batch\n",
    "        y_pred = model_conv(images).to(device)\n",
    "        loss = criterion(y_pred, labels)\n",
    "        optimizer.zero_grad()\n",
    "        loss.backward()\n",
    "        optimizer.step()\n",
    "        if i%100==0:\n",
    "            print(epoch, i, loss)"
   ]
  },
  {
   "cell_type": "code",
   "execution_count": 131,
   "metadata": {},
   "outputs": [
    {
     "name": "stdout",
     "output_type": "stream",
     "text": [
      "99.02\n"
     ]
    }
   ],
   "source": [
    "model_conv.eval()\n",
    "with torch.no_grad():\n",
    "    for test_batch in test_loader:\n",
    "        images, labels = test_batch\n",
    "        y_pred = model_conv(images).to(device)\n",
    "        max_inidices = torch.max(y_pred, dim=1)[1]\n",
    "        n_correct = (labels == max_inidices).sum()\n",
    "\n",
    "        print(n_correct.item()/100)"
   ]
  },
  {
   "cell_type": "code",
   "execution_count": 109,
   "metadata": {},
   "outputs": [
    {
     "name": "stdout",
     "output_type": "stream",
     "text": [
      "prediction: 9\n"
     ]
    },
    {
     "data": {
      "image/png": "[encoded data removed]",
      "text/plain": [
       "<Figure size 432x288 with 1 Axes>"
      ]
     },
     "metadata": {
      "needs_background": "light"
     },
     "output_type": "display_data"
    }
   ],
   "source": [
    "def test():\n",
    "    i = np.random.randint(10000)\n",
    "    image = test_data[i][0]\n",
    "    label = test_data[i][1]\n",
    "    plt.imshow(image[0], cmap='Greys')\n",
    "    plt.title(str(i) + ': label = ' + str(label))\n",
    "    with torch.no_grad():\n",
    "        img = torch.reshape(image, (1,1,28,28))\n",
    "        y_pred = model(img)\n",
    "        max_index = torch.argmax(y_pred).item()\n",
    "        print('prediction:', max_index)\n",
    "test()"
   ]
  },
  {
   "cell_type": "code",
   "execution_count": 166,
   "metadata": {},
   "outputs": [
    {
     "name": "stdout",
     "output_type": "stream",
     "text": [
      "i=1827\n",
      "torch.Size([1, 6, 28, 28])\n",
      "torch.Size([1, 6, 14, 14])\n",
      "torch.Size([1, 32, 1, 1])\n",
      "torch.Size([1, 16, 5, 5])\n",
      "torch.Size([1, 32, 1, 1])\n"
     ]
    },
    {
     "data": {
      "image/png": "[encoded data removed]",
      "text/plain": [
       "<Figure size 432x288 with 1 Axes>"
      ]
     },
     "metadata": {
      "needs_background": "light"
     },
     "output_type": "display_data"
    },
    {
     "data": {
      "image/png": "[encoded data removed]",
      "text/plain": [
       "<Figure size 432x288 with 6 Axes>"
      ]
     },
     "metadata": {
      "needs_background": "light"
     },
     "output_type": "display_data"
    },
    {
     "data": {
      "image/png": "[encoded data removed]",
      "text/plain": [
       "<Figure size 432x288 with 12 Axes>"
      ]
     },
     "metadata": {
      "needs_background": "light"
     },
     "output_type": "display_data"
    },
    {
     "data": {
      "image/png": "[encoded data removed]",
      "text/plain": [
       "<Figure size 432x288 with 16 Axes>"
      ]
     },
     "metadata": {
      "needs_background": "light"
     },
     "output_type": "display_data"
    }
   ],
   "source": [
    "i = np.random.randint(60000)\n",
    "print('i=' +str(i))\n",
    "x = torch.reshape(train_data[i][0], (1,1,28,28))\n",
    "plt.figure(0)\n",
    "plt.imshow(x[0][0], 'Greys')\n",
    "with torch.no_grad():\n",
    "    \n",
    "    plt.figure(1)\n",
    "    x1 = model_conv.conv1(x)\n",
    "    print(x1.shape)\n",
    "    for i in range(6):\n",
    "        plt.subplot(1,6,i+1)\n",
    "        plt.imshow(x2[0][i], 'Greys')\n",
    "        plt.yticks([])\n",
    "        \n",
    "    plt.figure(2)\n",
    "    x1_ = model_conv.pool1(x1)\n",
    "    print(x1_.shape)\n",
    "    x2 = model_conv.conv2(x1_)\n",
    "    print(x3.shape)\n",
    "    for i in range(12):\n",
    "        plt.subplot(1,12,i+1)\n",
    "        plt.imshow(x2[0][i], 'Greys')\n",
    "        plt.yticks([])\n",
    "        \n",
    "    plt.figure(3)\n",
    "    x2_ = model_conv.pool2(x2)\n",
    "    print(x2_.shape)\n",
    "    x3 = model_conv.conv3(x2_)\n",
    "    print(x3.shape)\n",
    "    for i in range(16):\n",
    "        plt.subplot(4,4,i+1)\n",
    "        plt.imshow(x2_[0][i], 'Greys')\n",
    "        plt.yticks([])"
   ]
  },
  {
   "cell_type": "code",
   "execution_count": 25,
   "metadata": {},
   "outputs": [],
   "source": [
    "class LeNet5(torch.nn.Module):\n",
    "     \n",
    "    def __init__(self):   \n",
    "        super(LeNet5, self).__init__()\n",
    "        # Convolution (In LeNet-5, 32x32 images are given as input. Hence padding of 2 is done below)\n",
    "        self.conv1 = torch.nn.Conv2d(in_channels=1, out_channels=6, kernel_size=5, stride=1, padding=2)\n",
    "        # Max-pooling\n",
    "        self.max_pool_1 = torch.nn.MaxPool2d(kernel_size=2)\n",
    "        # Convolution\n",
    "        self.conv2 = torch.nn.Conv2d(in_channels=6, out_channels=16, kernel_size=5, stride=1)\n",
    "        # Max-pooling\n",
    "        self.max_pool_2 = torch.nn.MaxPool2d(kernel_size=2)\n",
    "        # Fully connected layer\n",
    "        self.fc1 = torch.nn.Linear(16*5*5, 120)   # convert matrix with 16*5*5 (= 400) features to a matrix of 120 features (columns)\n",
    "        self.fc2 = torch.nn.Linear(120, 84)       # convert matrix with 120 features to a matrix of 84 features (columns)\n",
    "        self.fc3 = torch.nn.Linear(84, 10)        # convert matrix with 84 features to a matrix of 10 features (columns)\n",
    "        \n",
    "    def forward(self, x):\n",
    "        # convolve, then perform ReLU non-linearity\n",
    "        x = torch.relu(self.conv1(x))  \n",
    "        # max-pooling with 2x2 grid\n",
    "        x = self.max_pool_1(x)\n",
    "        # convolve, then perform ReLU non-linearity\n",
    "        x = torch.relu(self.conv2(x))\n",
    "        # max-pooling with 2x2 grid\n",
    "        x = self.max_pool_2(x)\n",
    "        # first flatten 'max_pool_2_out' to contain 16*5*5 columns\n",
    "        # read through https://stackoverflow.com/a/42482819/7551231\n",
    "        x = x.view(-1, 16*5*5)\n",
    "        # FC-1, then perform ReLU non-linearity\n",
    "        x = torch.relu(self.fc1(x))\n",
    "        # FC-2, then perform ReLU non-linearity\n",
    "        x = torch.relu(self.fc2(x))\n",
    "        # FC-3\n",
    "        x = self.fc3(x)\n",
    "        \n",
    "        return x\n",
    "     \n",
    "net = LeNet5()"
   ]
  },
  {
   "cell_type": "code",
   "execution_count": null,
   "metadata": {},
   "outputs": [],
   "source": []
  },
  {
   "cell_type": "code",
   "execution_count": 26,
   "metadata": {},
   "outputs": [],
   "source": [
    "# set up loss function -- 'SVM Loss' a.k.a ''Cross-Entropy Loss\n",
    "criterion = torch.nn.CrossEntropyLoss()  \n",
    "   \n",
    "# SGD used for optimization, momentum update used as parameter update   \n",
    "optimizer = torch.optim.Adam(net.parameters(), lr = 0.001) \n"
   ]
  },
  {
   "cell_type": "code",
   "execution_count": 27,
   "metadata": {},
   "outputs": [
    {
     "name": "stdout",
     "output_type": "stream",
     "text": [
      "0 0 tensor(2.2948, grad_fn=<NllLossBackward>)\n",
      "0 100 tensor(0.3310, grad_fn=<NllLossBackward>)\n",
      "0 200 tensor(0.1349, grad_fn=<NllLossBackward>)\n",
      "0 300 tensor(0.2050, grad_fn=<NllLossBackward>)\n",
      "0 400 tensor(0.1086, grad_fn=<NllLossBackward>)\n",
      "0 500 tensor(0.0204, grad_fn=<NllLossBackward>)\n",
      "1 0 tensor(0.1760, grad_fn=<NllLossBackward>)\n",
      "1 100 tensor(0.0664, grad_fn=<NllLossBackward>)\n",
      "1 200 tensor(0.0911, grad_fn=<NllLossBackward>)\n",
      "1 300 tensor(0.1392, grad_fn=<NllLossBackward>)\n",
      "1 400 tensor(0.0474, grad_fn=<NllLossBackward>)\n",
      "1 500 tensor(0.0238, grad_fn=<NllLossBackward>)\n",
      "2 0 tensor(0.1162, grad_fn=<NllLossBackward>)\n",
      "2 100 tensor(0.0283, grad_fn=<NllLossBackward>)\n",
      "2 200 tensor(0.0654, grad_fn=<NllLossBackward>)\n",
      "2 300 tensor(0.0347, grad_fn=<NllLossBackward>)\n",
      "2 400 tensor(0.0523, grad_fn=<NllLossBackward>)\n",
      "2 500 tensor(0.0334, grad_fn=<NllLossBackward>)\n"
     ]
    }
   ],
   "source": [
    "for epoch in range(3):\n",
    "    for i, batch in enumerate(train_loader):\n",
    "        images, labels = batch\n",
    "        y_pred = net(images).to(device)\n",
    "        loss = criterion(y_pred, labels)\n",
    "        optimizer.zero_grad()\n",
    "        loss.backward()\n",
    "        optimizer.step()\n",
    "        if i%100==0:\n",
    "            print(epoch, i, loss)"
   ]
  },
  {
   "cell_type": "code",
   "execution_count": 213,
   "metadata": {},
   "outputs": [
    {
     "name": "stdout",
     "output_type": "stream",
     "text": [
      "0.9808\n"
     ]
    }
   ],
   "source": [
    "model_conv.eval()\n",
    "with torch.no_grad():\n",
    "    for test_data in test_loader:\n",
    "        images, labels = test_data\n",
    "        y_pred = net(images).to(device)\n",
    "        max_inidices = torch.max(y_pred, dim=1)[1]\n",
    "        n_correct = (labels == max_inidices).sum()\n",
    "\n",
    "        print(n_correct.item()/10000)"
   ]
  },
  {
   "cell_type": "code",
   "execution_count": null,
   "metadata": {},
   "outputs": [],
   "source": []
  },
  {
   "cell_type": "code",
   "execution_count": 220,
   "metadata": {},
   "outputs": [],
   "source": [
    "exit()\n"
   ]
  },
  {
   "cell_type": "code",
   "execution_count": 113,
   "metadata": {},
   "outputs": [
    {
     "name": "stdout",
     "output_type": "stream",
     "text": [
      "import time = 0.0001430511474609375\n",
      "image time = 0.01713109016418457\n",
      "time 2 = 3.5987980365753174\n",
      "middle time = 3.599459171295166\n"
     ]
    },
    {
     "data": {
      "text/plain": [
       "<matplotlib.image.AxesImage at 0x12ba80820>"
      ]
     },
     "execution_count": 113,
     "metadata": {},
     "output_type": "execute_result"
    },
    {
     "data": {
      "image/png": "[encoded data removed]",
      "text/plain": [
       "<Figure size 432x288 with 1 Axes>"
      ]
     },
     "metadata": {
      "needs_background": "light"
     },
     "output_type": "display_data"
    }
   ],
   "source": [
    "import time\n",
    "t0 = time.time()\n",
    "\n",
    "import numpy as np\n",
    "from matplotlib import pyplot as plt\n",
    "from matplotlib import image as img\n",
    "\n",
    "print('import time =', time.time()-t0)\n",
    "\n",
    "my_image = img.imread('database/image de trois.jpg', format='jpg')\n",
    "height, length, color = my_image.shape\n",
    "\n",
    "my_image = np.array(my_image)\n",
    "\n",
    "j_start = int(length/2 - height/2)\n",
    "\n",
    "print('image time =', time.time() - t0)\n",
    "\n",
    "n = 28\n",
    "\n",
    "def new_image(my_image):\n",
    "    # Convert 720 * 1080 rvb image into 28 * 28 black&white\n",
    "    \n",
    "\n",
    "    grey_image = np.zeros((height, height), dtype='int32')\n",
    "    \n",
    "    for i in range(height):\n",
    "        for j in range(height):\n",
    "            sum = 0\n",
    "            for k in range(3):\n",
    "                sum += my_image[i][j+j_start][k]\n",
    "            grey_image[i][j] = 255 - sum//3\n",
    "            # grey_image[i][j] = 255 - np.mean(pixel)\n",
    "            \n",
    "    print('time 2 =', time.time() - t0)\n",
    "    \n",
    "    my_new_image = np.zeros((n, n))\n",
    "    kl_lim = height // (n - 1) - 1\n",
    "    k_tot = 0\n",
    "    count = 0\n",
    "    \n",
    "    print('middle time =', time.time() - t0)\n",
    "    \n",
    "    for i in range(n):\n",
    "        l_tot = 0\n",
    "        for j in range(n):\n",
    "            count += 1\n",
    "            sum = 0\n",
    "            k = 0\n",
    "            l = 0\n",
    "            \n",
    "            while k <= kl_lim and k_tot <= height-1:\n",
    "                while l <= kl_lim and l_tot <= height-1:\n",
    "                    sum += grey_image[k_tot][l_tot]\n",
    "                    l += 1\n",
    "                k += 1\n",
    "                \n",
    "            new_pixel = sum / (k + l)\n",
    "            my_new_image[i][j] = new_pixel\n",
    "            l_tot += kl_lim\n",
    "        k_tot += kl_lim\n",
    "        \n",
    "    return my_new_image\n",
    "\n",
    "im28 = new_image(my_image)\n",
    "\n",
    "plt.imshow(im28, cmap='Greys')\n",
    "\n",
    "\n"
   ]
  },
  {
   "cell_type": "code",
   "execution_count": 114,
   "metadata": {},
   "outputs": [
    {
     "data": {
      "text/plain": [
       "torch.Size([1, 1, 28, 28])"
      ]
     },
     "execution_count": 114,
     "metadata": {},
     "output_type": "execute_result"
    }
   ],
   "source": [
    "img = torch.tensor(im28, dtype= torch.float32)\n",
    "img = img.view(1,1,28,28)/img.max()\n",
    "img.shape"
   ]
  },
  {
   "cell_type": "code",
   "execution_count": 115,
   "metadata": {},
   "outputs": [
    {
     "data": {
      "text/plain": [
       "tensor(8)"
      ]
     },
     "execution_count": 115,
     "metadata": {},
     "output_type": "execute_result"
    }
   ],
   "source": [
    "torch.argmax(model_conv(img))"
   ]
  },
  {
   "cell_type": "code",
   "execution_count": 118,
   "metadata": {},
   "outputs": [],
   "source": []
  },
  {
   "cell_type": "code",
   "execution_count": null,
   "metadata": {},
   "outputs": [],
   "source": []
  },
  {
   "cell_type": "code",
   "execution_count": 4,
   "metadata": {},
   "outputs": [],
   "source": [
    "import CNN"
   ]
  },
  {
   "cell_type": "code",
   "execution_count": 2,
   "metadata": {},
   "outputs": [
    {
     "name": "stdout",
     "output_type": "stream",
     "text": [
      "epoch: 1/2 batch: 0/600 loss = 2.3057913780212402\n",
      "epoch: 1/2 batch: 100/600 loss = 0.9239262938499451\n",
      "epoch: 1/2 batch: 200/600 loss = 0.7629928588867188\n",
      "epoch: 1/2 batch: 300/600 loss = 0.5907454490661621\n",
      "epoch: 1/2 batch: 400/600 loss = 0.48600780963897705\n",
      "epoch: 1/2 batch: 500/600 loss = 0.7260846495628357\n",
      "epoch: 2/2 batch: 0/600 loss = 0.4838714897632599\n",
      "epoch: 2/2 batch: 100/600 loss = 0.5479997992515564\n",
      "epoch: 2/2 batch: 200/600 loss = 0.6552199721336365\n",
      "epoch: 2/2 batch: 300/600 loss = 0.5561258792877197\n",
      "epoch: 2/2 batch: 400/600 loss = 0.6343634128570557\n",
      "epoch: 2/2 batch: 500/600 loss = 0.5805419683456421\n",
      "# done\n"
     ]
    },
    {
     "data": {
      "text/plain": [
       "0.981"
      ]
     },
     "execution_count": 2,
     "metadata": {},
     "output_type": "execute_result"
    }
   ],
   "source": [
    "CNN.main()"
   ]
  },
  {
   "cell_type": "code",
   "execution_count": 5,
   "metadata": {},
   "outputs": [
    {
     "data": {
      "text/plain": [
       "ConvNeuralNet(\n",
       "  (conv1): Conv2d(1, 6, kernel_size=(5, 5), stride=(1, 1), padding=(2, 2))\n",
       "  (pool1): MaxPool2d(kernel_size=2, stride=2, padding=0, dilation=1, ceil_mode=False)\n",
       "  (conv2): Conv2d(6, 16, kernel_size=(5, 5), stride=(1, 1))\n",
       "  (pool2): MaxPool2d(kernel_size=2, stride=2, padding=0, dilation=1, ceil_mode=False)\n",
       "  (conv3): Conv2d(16, 120, kernel_size=(5, 5), stride=(1, 1))\n",
       "  (lin_1): Linear(in_features=120, out_features=84, bias=True)\n",
       "  (lin_2): Linear(in_features=84, out_features=10, bias=True)\n",
       "  (drop_input): Dropout2d(p=0.2, inplace=False)\n",
       "  (drop_conv1): Dropout2d(p=0.1, inplace=False)\n",
       "  (drop_conv3): Dropout(p=0.2, inplace=False)\n",
       "  (drop_lin1): Dropout(p=0.2, inplace=False)\n",
       ")"
      ]
     },
     "execution_count": 5,
     "metadata": {},
     "output_type": "execute_result"
    }
   ],
   "source": [
    "CNN.model_conv"
   ]
  },
  {
   "cell_type": "code",
   "execution_count": null,
   "metadata": {},
   "outputs": [],
   "source": []
  }
 ],
 "metadata": {
  "kernelspec": {
   "display_name": "Python 3",
   "language": "python",
   "name": "python3"
  },
  "language_info": {
   "codemirror_mode": {
    "name": "ipython",
    "version": 3
   },
   "file_extension": ".py",
   "mimetype": "text/x-python",
   "name": "python",
   "nbconvert_exporter": "python",
   "pygments_lexer": "ipython3",
   "version": "3.8.2"
  }
 },
 "nbformat": 4,
 "nbformat_minor": 4
}
