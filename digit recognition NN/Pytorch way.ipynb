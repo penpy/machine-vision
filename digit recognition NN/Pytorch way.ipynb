{
 "cells": [
  {
   "cell_type": "code",
   "execution_count": 20,
   "metadata": {},
   "outputs": [],
   "source": [
    "import numpy as np\n",
    "import matplotlib.pyplot as plt\n",
    "import torch\n",
    "import torch.nn as nn\n",
    "from torch.utils.data import DataLoader, Dataset \n",
    "import torchvision"
   ]
  },
  {
   "cell_type": "code",
   "execution_count": 21,
   "metadata": {},
   "outputs": [
    {
     "name": "stdout",
     "output_type": "stream",
     "text": [
      "device: cpu\n"
     ]
    }
   ],
   "source": [
    "device = torch.device('cuda' if torch.cuda.is_available() else 'cpu')\n",
    "print('device: ' + str(device))\n",
    "\n",
    "size_input = 784\n",
    "size_hidden = 200\n",
    "n_classes = 100\n",
    "\n",
    "n_epochs = 2\n",
    "batch_size = 100\n",
    "n_iter = n_epochs // batch_size\n",
    "learn_r = 0.001\n",
    "\n",
    "path = ''\n",
    "train_data = torchvision.datasets.MNIST(root=path, train=True, transform=torchvision.transforms.ToTensor())\n",
    "test_data = torchvision.datasets.MNIST(root=path, train=False, transform=torchvision.transforms.ToTensor())\n",
    "\n",
    "train_loader = DataLoader(train_data, batch_size=batch_size, shuffle=True)\n",
    "test_loader = DataLoader(test_data, batch_size=10000, shuffle=False)\n",
    "\n",
    "class NeuralNet(nn.Module):\n",
    "    \n",
    "    def __init__(self):\n",
    "        super(NeuralNet, self).__init__()\n",
    "        self.lin_1 = nn.Linear(size_input, size_hidden)\n",
    "        self.lin_2 = nn.Linear(size_hidden, n_classes)\n",
    "        \n",
    "    def forward(self, inp):\n",
    "        out_1 = torch.relu(self.lin_1(inp))\n",
    "        out_2 = self.lin_2(out_1)\n",
    "        return out_2\n",
    "\n",
    "model = NeuralNet().to(device)"
   ]
  },
  {
   "cell_type": "code",
   "execution_count": 3,
   "metadata": {},
   "outputs": [
    {
     "name": "stdout",
     "output_type": "stream",
     "text": [
      "0 tensor(2.3082, grad_fn=<NllLossBackward>)\n",
      "0 tensor(0.4485, grad_fn=<NllLossBackward>)\n",
      "0 tensor(0.4349, grad_fn=<NllLossBackward>)\n",
      "0 tensor(0.2091, grad_fn=<NllLossBackward>)\n",
      "0 tensor(0.2543, grad_fn=<NllLossBackward>)\n",
      "0 tensor(0.2631, grad_fn=<NllLossBackward>)\n",
      "1 tensor(0.2615, grad_fn=<NllLossBackward>)\n",
      "1 tensor(0.1242, grad_fn=<NllLossBackward>)\n",
      "1 tensor(0.1959, grad_fn=<NllLossBackward>)\n",
      "1 tensor(0.1822, grad_fn=<NllLossBackward>)\n",
      "1 tensor(0.2040, grad_fn=<NllLossBackward>)\n",
      "1 tensor(0.1528, grad_fn=<NllLossBackward>)\n"
     ]
    }
   ],
   "source": [
    "criterion = torch.nn.CrossEntropyLoss()\n",
    "optimizer = torch.optim.Adam(model.parameters(), lr=learn_r)\n",
    "\n",
    "for epoch in range(n_epochs):\n",
    "    for i, batch in enumerate(train_loader):\n",
    "        images, labels = batch\n",
    "        flat_images = torch.reshape(images, (-1, size_input)).to(device)\n",
    "        y_pred = model(flat_images).to(device)\n",
    "        loss = criterion(y_pred, labels)\n",
    "        optimizer.zero_grad()\n",
    "        loss.backward()\n",
    "        optimizer.step()\n",
    "        if i%100==0:\n",
    "            print(epoch, loss)\n",
    "        \n",
    "        "
   ]
  },
  {
   "cell_type": "code",
   "execution_count": 4,
   "metadata": {},
   "outputs": [
    {
     "name": "stdout",
     "output_type": "stream",
     "text": [
      "0.9526\n"
     ]
    }
   ],
   "source": [
    "with torch.no_grad():\n",
    "    for test_data in test_loader:\n",
    "        images, labels = test_data\n",
    "        flat_images = torch.reshape(images, (-1, size_input))\n",
    "        y_pred = model(flat_images)\n",
    "        max_inidices = torch.max(y_pred, dim=1)[1]\n",
    "        n_correct = (labels == max_inidices).sum()\n",
    "\n",
    "        print(n_correct.item()/10000)\n"
   ]
  },
  {
   "cell_type": "code",
   "execution_count": 5,
   "metadata": {},
   "outputs": [],
   "source": []
  },
  {
   "cell_type": "code",
   "execution_count": 6,
   "metadata": {},
   "outputs": [
    {
     "name": "stdout",
     "output_type": "stream",
     "text": [
      "prediction : 7\n"
     ]
    },
    {
     "data": {
      "image/png": "[encoded data removed]",
      "text/plain": [
       "<Figure size 432x288 with 1 Axes>"
      ]
     },
     "metadata": {
      "needs_background": "light"
     },
     "output_type": "display_data"
    }
   ],
   "source": [
    "test_iter = iter(test_loader)\n",
    "test_images, test_labels = test_iter.next()\n",
    "\n",
    "def test():\n",
    "    i = np.random.randint(10000)\n",
    "    image = test_images[i,0]\n",
    "    label = test_labels[i]\n",
    "    plt.imshow(image, cmap='Greys')\n",
    "    plt.title('label = ' + str(label.item()))\n",
    "    with torch.no_grad():\n",
    "        flat_image = torch.reshape(image, (1, 784))\n",
    "        y_pred = model(flat_image)\n",
    "        max_index = torch.argmax(y_pred).item()\n",
    "        print('prediction :', max_index)\n",
    "test()"
   ]
  }
 ],
 "metadata": {
  "kernelspec": {
   "display_name": "Python 3",
   "language": "python",
   "name": "python3"
  },
  "language_info": {
   "codemirror_mode": {
    "name": "ipython",
    "version": 3
   },
   "file_extension": ".py",
   "mimetype": "text/x-python",
   "name": "python",
   "nbconvert_exporter": "python",
   "pygments_lexer": "ipython3",
   "version": "3.8.2"
  }
 },
 "nbformat": 4,
 "nbformat_minor": 4
}
